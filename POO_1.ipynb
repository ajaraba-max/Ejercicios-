{
  "nbformat": 4,
  "nbformat_minor": 0,
  "metadata": {
    "colab": {
      "provenance": [],
      "authorship_tag": "ABX9TyOJBwqSD37XTEpe0z7uxmtB",
      "include_colab_link": true
    },
    "kernelspec": {
      "name": "python3",
      "display_name": "Python 3"
    },
    "language_info": {
      "name": "python"
    }
  },
  "cells": [
    {
      "cell_type": "markdown",
      "metadata": {
        "id": "view-in-github",
        "colab_type": "text"
      },
      "source": [
        "<a href=\"https://colab.research.google.com/github/ajaraba-max/Ejercicios-/blob/main/POO_1.ipynb\" target=\"_parent\"><img src=\"https://colab.research.google.com/assets/colab-badge.svg\" alt=\"Open In Colab\"/></a>"
      ]
    },
    {
      "cell_type": "code",
      "execution_count": null,
      "metadata": {
        "colab": {
          "base_uri": "https://localhost:8080/"
        },
        "id": "PH0V3oj-fHbo",
        "outputId": "79bceadc-75d0-4033-8581-ffde28561fa5"
      },
      "outputs": [
        {
          "output_type": "stream",
          "name": "stdout",
          "text": [
            "Juan, ¿Cuál es tu edad? 9\n",
            "\n",
            "   LAS EDADES SON:\n",
            "MADRE: 27   ALBERTO: 6\n",
            "ANA: 12     JUAN: 9\n"
          ]
        }
      ],
      "source": [
        "class Familia:\n",
        "    def __init__(self, edad_juan):\n",
        "        self.edad_juan = edad_juan\n",
        "        self.edad_alberto = int(edad_juan * (2/3))\n",
        "        self.edad_ana = int(edad_juan * (4/3))\n",
        "        self.edad_madre = self.edad_juan + self.edad_alberto + self.edad_ana\n",
        "\n",
        "    def mostrar_edades(self):\n",
        "        print(f\"\\n   LAS EDADES SON:\")\n",
        "        print(f\"MADRE: {self.edad_madre}   ALBERTO: {self.edad_alberto}\")\n",
        "        print(f\"ANA: {self.edad_ana}     JUAN: {self.edad_juan}\")\n",
        "\n",
        "\n",
        "edad_juan = int(input(\"Juan, ¿Cuál es tu edad? \"))\n",
        "familia = Familia(edad_juan)\n",
        "familia.mostrar_edades()\n"
      ]
    },
    {
      "cell_type": "code",
      "source": [
        "#Ejercicio N°5\n",
        "class Operaciones:\n",
        "    def __init__(self, x, y):\n",
        "        self.suma = 0\n",
        "        self.x = x\n",
        "        self.y = y\n",
        "\n",
        "    def mostrar(self):\n",
        "        print(f\"  {self.suma:<6}{self.x:<6}{self.y:>4}\")\n",
        "\n",
        "    def calcular(self):\n",
        "        self.suma = self.suma + self.x\n",
        "        self.x = self.x + self.y**2\n",
        "        print(f\"  {self.suma:<6}{self.x:<6}{self.y:>4}\")\n",
        "\n",
        "        self.suma = self.suma + self.x / self.y\n",
        "        print(f\"  {self.suma:<6}\")\n",
        "\n",
        "x = int(input(\"Dale un valor a X: \"))\n",
        "y = int(input(\"Dale un valor a Y: \"))\n",
        "\n",
        "print(\" SUMA    X      Y\")\n",
        "operacion = Operaciones(x, y)\n",
        "operacion.mostrar()\n",
        "operacion.calcular()\n"
      ],
      "metadata": {
        "colab": {
          "base_uri": "https://localhost:8080/"
        },
        "id": "qsDMaaknlPsq",
        "outputId": "f5a1a779-bfe1-4c61-87f0-f490d0c4b865"
      },
      "execution_count": null,
      "outputs": [
        {
          "output_type": "stream",
          "name": "stdout",
          "text": [
            "Dale un valor a X: 20\n",
            "Dale un valor a Y: 40\n",
            " SUMA    X      Y\n",
            "  0     20      40\n",
            "  20    1620    40\n",
            "  60.5  \n"
          ]
        }
      ]
    },
    {
      "cell_type": "code",
      "source": [
        "#Ejercicio N°12\n",
        "class Sueldo:\n",
        "  def __init__(self,Horas):\n",
        "    self.SueldoBruto=Horas*5000\n",
        "    self.Retencion=self.SueldoBruto*(0.125)\n",
        "    self.SueldoNeto=self.SueldoBruto-self.Retencion\n",
        "  def Mostrar (self):\n",
        "    print(f\"Salario Bruto: {self.SueldoBruto} \\nRetencion: {self.Retencion}  \\nSueldo Neto: {self.SueldoNeto}\")\n",
        "\n",
        "\n",
        "Horas=int(input(\"Ingresa cuantas horas trabajaste: \"))\n",
        "horas=Sueldo(Horas)\n",
        "horas.Mostrar()\n"
      ],
      "metadata": {
        "id": "DJUp5ljlt2Nd",
        "colab": {
          "base_uri": "https://localhost:8080/"
        },
        "outputId": "8cb88b38-f9d3-4055-e68b-724f1a91875e"
      },
      "execution_count": null,
      "outputs": [
        {
          "output_type": "stream",
          "name": "stdout",
          "text": [
            "Ingresa cuantas horas trabajaste: 48\n",
            "Salario Bruto: 240000 \n",
            "Retencion: 30000.0  \n",
            "Sueldo Neto: 210000.0\n"
          ]
        }
      ]
    },
    {
      "cell_type": "code",
      "source": [
        "#Ejercicio 14\n",
        "class Cuadrado_y_Cubo:\n",
        "  def __init__(self,Numero):\n",
        "    self.cuadrado=Numero**2\n",
        "    self.cubo=Numero**3\n",
        "  def Mostrar(self):\n",
        "    print(f\"Cuadrado: {self.cuadrado} \\nCubo: {self.cubo}\")\n",
        "Numero=int(input(\"Ingresa un numero para hallar su Cuadrado y su Cubo  \"))\n",
        "numero=Cuadrado_y_Cubo(Numero)\n",
        "numero.Mostrar()"
      ],
      "metadata": {
        "colab": {
          "base_uri": "https://localhost:8080/"
        },
        "id": "LmHtXLTLbfSE",
        "outputId": "0b5d4bfa-d9fb-4884-be3c-f7b179044095"
      },
      "execution_count": 22,
      "outputs": [
        {
          "output_type": "stream",
          "name": "stdout",
          "text": [
            "Ingresa un numero para hallar su Cuadrado y su Cubo  10\n",
            "Cuadrado: 100 \n",
            "Cubo: 1000\n"
          ]
        }
      ]
    },
    {
      "cell_type": "code",
      "source": [
        "#Ejercicio #17\n",
        "class Area_y_Circunferencia:\n",
        "  def __init__(self, Radio):\n",
        "    self.Area=Radio*(3.1416**2)\n",
        "    self.Circunferencia=2*(3.1416*Radio)\n",
        "  def Mostrar (self):\n",
        "    print(f\"El Area del Circulo es {self.Area}  \\nLa Circunferencia es: {self.Circunferencia}\")\n",
        "Radio=int(input(\"Ingresa el radio del circulo:  \"))\n",
        "radio=Area_y_Circunferencia(Radio)\n",
        "radio.Mostrar()"
      ],
      "metadata": {
        "colab": {
          "base_uri": "https://localhost:8080/"
        },
        "id": "FjaRQtiPskyP",
        "outputId": "9f88f034-01c5-4db0-b6e4-9f3ffc6f2a53"
      },
      "execution_count": 24,
      "outputs": [
        {
          "output_type": "stream",
          "name": "stdout",
          "text": [
            "Ingresa el radio del circulo:  9\n",
            "El Area del Circulo es 88.82685504  \n",
            "La Circunferencia es: 56.5488\n"
          ]
        }
      ]
    }
  ]
}